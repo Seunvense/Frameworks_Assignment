{
 "cells": [
  {
   "cell_type": "markdown",
   "id": "361df6f9-63a7-42f6-a27c-a2fa30b8cd78",
   "metadata": {},
   "source": [
    "# CORD-19 Data Analysis\n",
    "## Part 1: Data Loading and Exploration\n",
    "Loading metadata.csv (~257 MB, ~400K rows) to explore the dataset structure, dimensions, data types, missing values, and basic statistics."
   ]
  },
  {
   "cell_type": "code",
   "execution_count": 9,
   "id": "fec143de-9887-418e-b6d3-f175e654f052",
   "metadata": {
    "scrolled": true
   },
   "outputs": [
    {
     "data": {
      "text/html": [
       "<div>\n",
       "<style scoped>\n",
       "    .dataframe tbody tr th:only-of-type {\n",
       "        vertical-align: middle;\n",
       "    }\n",
       "\n",
       "    .dataframe tbody tr th {\n",
       "        vertical-align: top;\n",
       "    }\n",
       "\n",
       "    .dataframe thead th {\n",
       "        text-align: right;\n",
       "    }\n",
       "</style>\n",
       "<table border=\"1\" class=\"dataframe\">\n",
       "  <thead>\n",
       "    <tr style=\"text-align: right;\">\n",
       "      <th></th>\n",
       "      <th>cord_uid</th>\n",
       "      <th>sha</th>\n",
       "      <th>source_x</th>\n",
       "      <th>title</th>\n",
       "      <th>doi</th>\n",
       "      <th>pmcid</th>\n",
       "      <th>pubmed_id</th>\n",
       "      <th>license</th>\n",
       "      <th>abstract</th>\n",
       "      <th>publish_time</th>\n",
       "      <th>authors</th>\n",
       "      <th>journal</th>\n",
       "      <th>mag_id</th>\n",
       "      <th>who_covidence_id</th>\n",
       "      <th>arxiv_id</th>\n",
       "      <th>pdf_json_files</th>\n",
       "      <th>pmc_json_files</th>\n",
       "      <th>url</th>\n",
       "      <th>s2_id</th>\n",
       "    </tr>\n",
       "  </thead>\n",
       "  <tbody>\n",
       "    <tr>\n",
       "      <th>0</th>\n",
       "      <td>ug7v899j</td>\n",
       "      <td>d1aafb70c066a2068b02786f8929fd9c900897fb</td>\n",
       "      <td>PMC</td>\n",
       "      <td>Clinical features of culture-proven Mycoplasma...</td>\n",
       "      <td>10.1186/1471-2334-1-6</td>\n",
       "      <td>PMC35282</td>\n",
       "      <td>11472636</td>\n",
       "      <td>no-cc</td>\n",
       "      <td>OBJECTIVE: This retrospective chart review des...</td>\n",
       "      <td>2001-07-04</td>\n",
       "      <td>Madani, Tariq A; Al-Ghamdi, Aisha A</td>\n",
       "      <td>BMC Infect Dis</td>\n",
       "      <td>NaN</td>\n",
       "      <td>NaN</td>\n",
       "      <td>NaN</td>\n",
       "      <td>document_parses/pdf_json/d1aafb70c066a2068b027...</td>\n",
       "      <td>document_parses/pmc_json/PMC35282.xml.json</td>\n",
       "      <td>https://www.ncbi.nlm.nih.gov/pmc/articles/PMC3...</td>\n",
       "      <td>NaN</td>\n",
       "    </tr>\n",
       "    <tr>\n",
       "      <th>1</th>\n",
       "      <td>02tnwd4m</td>\n",
       "      <td>6b0567729c2143a66d737eb0a2f63f2dce2e5a7d</td>\n",
       "      <td>PMC</td>\n",
       "      <td>Nitric oxide: a pro-inflammatory mediator in l...</td>\n",
       "      <td>10.1186/rr14</td>\n",
       "      <td>PMC59543</td>\n",
       "      <td>11667967</td>\n",
       "      <td>no-cc</td>\n",
       "      <td>Inflammatory diseases of the respiratory tract...</td>\n",
       "      <td>2000-08-15</td>\n",
       "      <td>Vliet, Albert van der; Eiserich, Jason P; Cros...</td>\n",
       "      <td>Respir Res</td>\n",
       "      <td>NaN</td>\n",
       "      <td>NaN</td>\n",
       "      <td>NaN</td>\n",
       "      <td>document_parses/pdf_json/6b0567729c2143a66d737...</td>\n",
       "      <td>document_parses/pmc_json/PMC59543.xml.json</td>\n",
       "      <td>https://www.ncbi.nlm.nih.gov/pmc/articles/PMC5...</td>\n",
       "      <td>NaN</td>\n",
       "    </tr>\n",
       "    <tr>\n",
       "      <th>2</th>\n",
       "      <td>ejv2xln0</td>\n",
       "      <td>06ced00a5fc04215949aa72528f2eeaae1d58927</td>\n",
       "      <td>PMC</td>\n",
       "      <td>Surfactant protein-D and pulmonary host defense</td>\n",
       "      <td>10.1186/rr19</td>\n",
       "      <td>PMC59549</td>\n",
       "      <td>11667972</td>\n",
       "      <td>no-cc</td>\n",
       "      <td>Surfactant protein-D (SP-D) participates in th...</td>\n",
       "      <td>2000-08-25</td>\n",
       "      <td>Crouch, Erika C</td>\n",
       "      <td>Respir Res</td>\n",
       "      <td>NaN</td>\n",
       "      <td>NaN</td>\n",
       "      <td>NaN</td>\n",
       "      <td>document_parses/pdf_json/06ced00a5fc04215949aa...</td>\n",
       "      <td>document_parses/pmc_json/PMC59549.xml.json</td>\n",
       "      <td>https://www.ncbi.nlm.nih.gov/pmc/articles/PMC5...</td>\n",
       "      <td>NaN</td>\n",
       "    </tr>\n",
       "    <tr>\n",
       "      <th>3</th>\n",
       "      <td>2b73a28n</td>\n",
       "      <td>348055649b6b8cf2b9a376498df9bf41f7123605</td>\n",
       "      <td>PMC</td>\n",
       "      <td>Role of endothelin-1 in lung disease</td>\n",
       "      <td>10.1186/rr44</td>\n",
       "      <td>PMC59574</td>\n",
       "      <td>11686871</td>\n",
       "      <td>no-cc</td>\n",
       "      <td>Endothelin-1 (ET-1) is a 21 amino acid peptide...</td>\n",
       "      <td>2001-02-22</td>\n",
       "      <td>Fagan, Karen A; McMurtry, Ivan F; Rodman, David M</td>\n",
       "      <td>Respir Res</td>\n",
       "      <td>NaN</td>\n",
       "      <td>NaN</td>\n",
       "      <td>NaN</td>\n",
       "      <td>document_parses/pdf_json/348055649b6b8cf2b9a37...</td>\n",
       "      <td>document_parses/pmc_json/PMC59574.xml.json</td>\n",
       "      <td>https://www.ncbi.nlm.nih.gov/pmc/articles/PMC5...</td>\n",
       "      <td>NaN</td>\n",
       "    </tr>\n",
       "    <tr>\n",
       "      <th>4</th>\n",
       "      <td>9785vg6d</td>\n",
       "      <td>5f48792a5fa08bed9f56016f4981ae2ca6031b32</td>\n",
       "      <td>PMC</td>\n",
       "      <td>Gene expression in epithelial cells in respons...</td>\n",
       "      <td>10.1186/rr61</td>\n",
       "      <td>PMC59580</td>\n",
       "      <td>11686888</td>\n",
       "      <td>no-cc</td>\n",
       "      <td>Respiratory syncytial virus (RSV) and pneumoni...</td>\n",
       "      <td>2001-05-11</td>\n",
       "      <td>Domachowske, Joseph B; Bonville, Cynthia A; Ro...</td>\n",
       "      <td>Respir Res</td>\n",
       "      <td>NaN</td>\n",
       "      <td>NaN</td>\n",
       "      <td>NaN</td>\n",
       "      <td>document_parses/pdf_json/5f48792a5fa08bed9f560...</td>\n",
       "      <td>document_parses/pmc_json/PMC59580.xml.json</td>\n",
       "      <td>https://www.ncbi.nlm.nih.gov/pmc/articles/PMC5...</td>\n",
       "      <td>NaN</td>\n",
       "    </tr>\n",
       "  </tbody>\n",
       "</table>\n",
       "</div>"
      ],
      "text/plain": [
       "   cord_uid                                       sha source_x  \\\n",
       "0  ug7v899j  d1aafb70c066a2068b02786f8929fd9c900897fb      PMC   \n",
       "1  02tnwd4m  6b0567729c2143a66d737eb0a2f63f2dce2e5a7d      PMC   \n",
       "2  ejv2xln0  06ced00a5fc04215949aa72528f2eeaae1d58927      PMC   \n",
       "3  2b73a28n  348055649b6b8cf2b9a376498df9bf41f7123605      PMC   \n",
       "4  9785vg6d  5f48792a5fa08bed9f56016f4981ae2ca6031b32      PMC   \n",
       "\n",
       "                                               title                    doi  \\\n",
       "0  Clinical features of culture-proven Mycoplasma...  10.1186/1471-2334-1-6   \n",
       "1  Nitric oxide: a pro-inflammatory mediator in l...           10.1186/rr14   \n",
       "2    Surfactant protein-D and pulmonary host defense           10.1186/rr19   \n",
       "3               Role of endothelin-1 in lung disease           10.1186/rr44   \n",
       "4  Gene expression in epithelial cells in respons...           10.1186/rr61   \n",
       "\n",
       "      pmcid pubmed_id license  \\\n",
       "0  PMC35282  11472636   no-cc   \n",
       "1  PMC59543  11667967   no-cc   \n",
       "2  PMC59549  11667972   no-cc   \n",
       "3  PMC59574  11686871   no-cc   \n",
       "4  PMC59580  11686888   no-cc   \n",
       "\n",
       "                                            abstract publish_time  \\\n",
       "0  OBJECTIVE: This retrospective chart review des...   2001-07-04   \n",
       "1  Inflammatory diseases of the respiratory tract...   2000-08-15   \n",
       "2  Surfactant protein-D (SP-D) participates in th...   2000-08-25   \n",
       "3  Endothelin-1 (ET-1) is a 21 amino acid peptide...   2001-02-22   \n",
       "4  Respiratory syncytial virus (RSV) and pneumoni...   2001-05-11   \n",
       "\n",
       "                                             authors         journal  mag_id  \\\n",
       "0                Madani, Tariq A; Al-Ghamdi, Aisha A  BMC Infect Dis     NaN   \n",
       "1  Vliet, Albert van der; Eiserich, Jason P; Cros...      Respir Res     NaN   \n",
       "2                                    Crouch, Erika C      Respir Res     NaN   \n",
       "3  Fagan, Karen A; McMurtry, Ivan F; Rodman, David M      Respir Res     NaN   \n",
       "4  Domachowske, Joseph B; Bonville, Cynthia A; Ro...      Respir Res     NaN   \n",
       "\n",
       "  who_covidence_id arxiv_id  \\\n",
       "0              NaN      NaN   \n",
       "1              NaN      NaN   \n",
       "2              NaN      NaN   \n",
       "3              NaN      NaN   \n",
       "4              NaN      NaN   \n",
       "\n",
       "                                      pdf_json_files  \\\n",
       "0  document_parses/pdf_json/d1aafb70c066a2068b027...   \n",
       "1  document_parses/pdf_json/6b0567729c2143a66d737...   \n",
       "2  document_parses/pdf_json/06ced00a5fc04215949aa...   \n",
       "3  document_parses/pdf_json/348055649b6b8cf2b9a37...   \n",
       "4  document_parses/pdf_json/5f48792a5fa08bed9f560...   \n",
       "\n",
       "                               pmc_json_files  \\\n",
       "0  document_parses/pmc_json/PMC35282.xml.json   \n",
       "1  document_parses/pmc_json/PMC59543.xml.json   \n",
       "2  document_parses/pmc_json/PMC59549.xml.json   \n",
       "3  document_parses/pmc_json/PMC59574.xml.json   \n",
       "4  document_parses/pmc_json/PMC59580.xml.json   \n",
       "\n",
       "                                                 url  s2_id  \n",
       "0  https://www.ncbi.nlm.nih.gov/pmc/articles/PMC3...    NaN  \n",
       "1  https://www.ncbi.nlm.nih.gov/pmc/articles/PMC5...    NaN  \n",
       "2  https://www.ncbi.nlm.nih.gov/pmc/articles/PMC5...    NaN  \n",
       "3  https://www.ncbi.nlm.nih.gov/pmc/articles/PMC5...    NaN  \n",
       "4  https://www.ncbi.nlm.nih.gov/pmc/articles/PMC5...    NaN  "
      ]
     },
     "execution_count": 9,
     "metadata": {},
     "output_type": "execute_result"
    }
   ],
   "source": [
    "import pandas as pd\n",
    "\n",
    "# Load metadata.csv (use low_memory=False for large CSV)\n",
    "df = pd.read_csv('metadata.csv', low_memory=False)\n",
    "\n",
    "# First few rows\n",
    "df.head()"
   ]
  },
  {
   "cell_type": "code",
   "execution_count": null,
   "id": "56b0c975-2de9-4776-87c3-704f86f57d36",
   "metadata": {},
   "outputs": [],
   "source": []
  },
  {
   "cell_type": "code",
   "execution_count": 10,
   "id": "564803da-152b-460e-94e1-cd9825f5f515",
   "metadata": {},
   "outputs": [
    {
     "name": "stdout",
     "output_type": "stream",
     "text": [
      "Shape: (192509, 19)\n"
     ]
    }
   ],
   "source": [
    "# DataFrame dimensions (rows, columns)\n",
    "print('Shape:', df.shape)"
   ]
  },
  {
   "cell_type": "code",
   "execution_count": null,
   "id": "ada3aa91-67f0-4005-b804-096f8e7b873c",
   "metadata": {},
   "outputs": [],
   "source": []
  },
  {
   "cell_type": "code",
   "execution_count": 11,
   "id": "50b019c3-ef29-4dc7-ba09-706b67e9ce93",
   "metadata": {},
   "outputs": [
    {
     "name": "stdout",
     "output_type": "stream",
     "text": [
      "<class 'pandas.core.frame.DataFrame'>\n",
      "RangeIndex: 192509 entries, 0 to 192508\n",
      "Data columns (total 19 columns):\n",
      " #   Column            Non-Null Count   Dtype  \n",
      "---  ------            --------------   -----  \n",
      " 0   cord_uid          192509 non-null  object \n",
      " 1   sha               79755 non-null   object \n",
      " 2   source_x          192509 non-null  object \n",
      " 3   title             192459 non-null  object \n",
      " 4   doi               137235 non-null  object \n",
      " 5   pmcid             86510 non-null   object \n",
      " 6   pubmed_id         117304 non-null  object \n",
      " 7   license           192509 non-null  object \n",
      " 8   abstract          137643 non-null  object \n",
      " 9   publish_time      192491 non-null  object \n",
      " 10  authors           186032 non-null  object \n",
      " 11  journal           181791 non-null  object \n",
      " 12  mag_id            0 non-null       float64\n",
      " 13  who_covidence_id  50325 non-null   object \n",
      " 14  arxiv_id          2464 non-null    object \n",
      " 15  pdf_json_files    79755 non-null   object \n",
      " 16  pmc_json_files    62736 non-null   object \n",
      " 17  url               151056 non-null  object \n",
      " 18  s2_id             164644 non-null  float64\n",
      "dtypes: float64(2), object(17)\n",
      "memory usage: 27.9+ MB\n",
      "None\n"
     ]
    }
   ],
   "source": [
    "# Data types of each column\n",
    "print(df.info())"
   ]
  },
  {
   "cell_type": "code",
   "execution_count": null,
   "id": "0264c064-5113-48f4-a953-1b4024754b9d",
   "metadata": {},
   "outputs": [],
   "source": []
  },
  {
   "cell_type": "code",
   "execution_count": 12,
   "id": "e36afa3f-cb68-4f79-9617-9555b386bde8",
   "metadata": {},
   "outputs": [
    {
     "name": "stdout",
     "output_type": "stream",
     "text": [
      "Missing values:\n",
      " title              50\n",
      "abstract        54866\n",
      "publish_time       18\n",
      "authors          6477\n",
      "journal         10718\n",
      "dtype: int64\n"
     ]
    }
   ],
   "source": [
    "# Missing values in key columns\n",
    "key_columns = ['title', 'abstract', 'publish_time', 'authors', 'journal']\n",
    "print('Missing values:\\n', df[key_columns].isnull().sum())"
   ]
  },
  {
   "cell_type": "code",
   "execution_count": null,
   "id": "56e2d254-a72b-4d7f-868e-c23454018447",
   "metadata": {},
   "outputs": [],
   "source": []
  },
  {
   "cell_type": "code",
   "execution_count": 13,
   "id": "dd875664-8327-471c-90a7-56018a292baa",
   "metadata": {},
   "outputs": [
    {
     "name": "stdout",
     "output_type": "stream",
     "text": [
      "       mag_id         s2_id\n",
      "count     0.0  1.646440e+05\n",
      "mean      NaN  1.458086e+08\n",
      "std       NaN  9.326480e+07\n",
      "min       NaN  9.600000e+01\n",
      "25%       NaN  2.983436e+07\n",
      "50%       NaN  2.156159e+08\n",
      "75%       NaN  2.188923e+08\n",
      "max       NaN  2.205264e+08\n"
     ]
    }
   ],
   "source": [
    "# Basic statistics for numerical columns\n",
    "print(df.describe())"
   ]
  },
  {
   "cell_type": "code",
   "execution_count": null,
   "id": "7236b8cc-bcc9-49e1-b44e-56b1a864d2ce",
   "metadata": {},
   "outputs": [],
   "source": []
  },
  {
   "cell_type": "markdown",
   "id": "d626976c-54ce-4f12-83df-cda8d97c0e3c",
   "metadata": {},
   "source": [
    "## Part 2: Data Cleaning and Preparation\n",
    "Cleaning metadata.csv by handling missing values, converting publish_time to datetime, extracting year, and adding abstract word count. Saving cleaned data to cleaned_metadata.csv."
   ]
  },
  {
   "cell_type": "code",
   "execution_count": null,
   "id": "429c1df7-4ee4-4fea-9cd4-039cf8306d83",
   "metadata": {},
   "outputs": [],
   "source": []
  },
  {
   "cell_type": "code",
   "execution_count": 15,
   "id": "d1ccb5f7-bc1e-4ab0-94e8-2f2c262f627a",
   "metadata": {},
   "outputs": [
    {
     "name": "stdout",
     "output_type": "stream",
     "text": [
      "Missing values before cleaning:\n",
      " cord_uid                 0\n",
      "sha                 112754\n",
      "source_x                 0\n",
      "title                   50\n",
      "doi                  55274\n",
      "pmcid               105999\n",
      "pubmed_id            75205\n",
      "license                  0\n",
      "abstract             54866\n",
      "publish_time            18\n",
      "authors               6477\n",
      "journal              10718\n",
      "mag_id              192509\n",
      "who_covidence_id    142184\n",
      "arxiv_id            190045\n",
      "pdf_json_files      112754\n",
      "pmc_json_files      129773\n",
      "url                  41453\n",
      "s2_id                27865\n",
      "dtype: int64\n",
      "\n",
      "Missing values after cleaning:\n",
      " title           0\n",
      "abstract        0\n",
      "publish_time    0\n",
      "authors         0\n",
      "journal         0\n",
      "dtype: int64\n"
     ]
    }
   ],
   "source": [
    "# Load data (use sample_metadata.csv if subsampled, else metadata.csv)\n",
    "df = pd.read_csv('sample_metadata.csv' if 'sample_metadata.csv' in globals() else 'metadata.csv', low_memory=False)\n",
    "\n",
    "# Check missing values in all columns\n",
    "print('Missing values before cleaning:\\n', df.isnull().sum())\n",
    "\n",
    "# Handle missing values\n",
    "# Drop rows where title or publish_time is missing (critical for analysis)\n",
    "df = df.dropna(subset=['title', 'publish_time'])\n",
    "\n",
    "# Fill missing abstracts with 'No abstract available'\n",
    "df['abstract'] = df['abstract'].fillna('No abstract available')\n",
    "\n",
    "# Fill missing journals/authors with 'Unknown'\n",
    "df['journal'] = df['journal'].fillna('Unknown')\n",
    "df['authors'] = df['authors'].fillna('Unknown')\n",
    "\n",
    "# Verify missing values after cleaning\n",
    "print('\\nMissing values after cleaning:\\n', df[key_columns].isnull().sum())\n"
   ]
  },
  {
   "cell_type": "code",
   "execution_count": null,
   "id": "7cb4a428-c5b9-4473-93f2-67a555f9de3b",
   "metadata": {},
   "outputs": [],
   "source": []
  },
  {
   "cell_type": "code",
   "execution_count": 16,
   "id": "778aad41-11b7-446a-b7bd-d6e0c32d76f7",
   "metadata": {},
   "outputs": [
    {
     "name": "stdout",
     "output_type": "stream",
     "text": [
      "Invalid dates (NaT):\n",
      " 86889\n",
      "Shape after dropping invalid dates: (105552, 20)\n"
     ]
    }
   ],
   "source": [
    "# Convert publish_time to datetime\n",
    "df['publish_time'] = pd.to_datetime(df['publish_time'], errors='coerce')\n",
    "\n",
    "# Extract year from publish_time\n",
    "df['year'] = df['publish_time'].dt.year\n",
    "\n",
    "# Check for invalid dates (NaT)\n",
    "print('Invalid dates (NaT):\\n', df['publish_time'].isna().sum())\n",
    "\n",
    "# Drop rows with invalid dates\n",
    "df = df.dropna(subset=['publish_time'])\n",
    "print('Shape after dropping invalid dates:', df.shape)"
   ]
  },
  {
   "cell_type": "code",
   "execution_count": null,
   "id": "82fc7a89-87c5-4141-bcbb-a86ad660f444",
   "metadata": {},
   "outputs": [],
   "source": []
  },
  {
   "cell_type": "code",
   "execution_count": 17,
   "id": "f58db0ee-8a5b-4662-a20f-d45327721841",
   "metadata": {},
   "outputs": [
    {
     "name": "stdout",
     "output_type": "stream",
     "text": [
      "Sample word counts:\n",
      "                                                title  abstract_word_count\n",
      "0  Clinical features of culture-proven Mycoplasma...                  262\n",
      "1  Nitric oxide: a pro-inflammatory mediator in l...                  142\n",
      "2    Surfactant protein-D and pulmonary host defense                  219\n",
      "3               Role of endothelin-1 in lung disease                   68\n",
      "4  Gene expression in epithelial cells in respons...                  110\n"
     ]
    }
   ],
   "source": [
    "# Add abstract word count column\n",
    "df['abstract_word_count'] = df['abstract'].apply(lambda x: len(str(x).split()))\n",
    "print('Sample word counts:\\n', df[['title', 'abstract_word_count']].head())"
   ]
  },
  {
   "cell_type": "code",
   "execution_count": null,
   "id": "af9ed5bc-8362-4501-91c9-dfcf413157c1",
   "metadata": {},
   "outputs": [],
   "source": []
  },
  {
   "cell_type": "code",
   "execution_count": 18,
   "id": "7604b65e-3de1-4223-80fe-1fd8f7998c46",
   "metadata": {},
   "outputs": [
    {
     "name": "stdout",
     "output_type": "stream",
     "text": [
      "Cleaned data saved to cleaned_metadata.csv, shape: (105552, 21)\n"
     ]
    }
   ],
   "source": [
    "# Save cleaned dataset\n",
    "df.to_csv('cleaned_metadata.csv', index=False)\n",
    "print('Cleaned data saved to cleaned_metadata.csv, shape:', df.shape)"
   ]
  },
  {
   "cell_type": "code",
   "execution_count": null,
   "id": "c7f6b6a7-0868-485f-9fd0-e409b24556a5",
   "metadata": {},
   "outputs": [],
   "source": []
  }
 ],
 "metadata": {
  "kernelspec": {
   "display_name": "Python 3 (ipykernel)",
   "language": "python",
   "name": "python3"
  },
  "language_info": {
   "codemirror_mode": {
    "name": "ipython",
    "version": 3
   },
   "file_extension": ".py",
   "mimetype": "text/x-python",
   "name": "python",
   "nbconvert_exporter": "python",
   "pygments_lexer": "ipython3",
   "version": "3.12.5"
  }
 },
 "nbformat": 4,
 "nbformat_minor": 5
}
